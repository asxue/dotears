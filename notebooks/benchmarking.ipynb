{
 "cells": [
  {
   "cell_type": "code",
   "execution_count": 1,
   "id": "14821ab2",
   "metadata": {},
   "outputs": [],
   "source": [
    "%load_ext autoreload\n",
    "%autoreload 2"
   ]
  },
  {
   "cell_type": "code",
   "execution_count": 2,
   "id": "1ef46e3f",
   "metadata": {},
   "outputs": [],
   "source": [
    "import pandas as pd\n",
    "import numpy as np\n",
    "import matplotlib.pyplot as plt\n",
    "import matplotlib as mpl\n",
    "import gzip, glob, os, csv\n",
    "import seaborn as sns"
   ]
  },
  {
   "cell_type": "code",
   "execution_count": 3,
   "id": "efa97f62",
   "metadata": {},
   "outputs": [],
   "source": [
    "RUN_NAMES = [\n",
    "             'p40_high_density_strong_effects/', \n",
    "             'p40_high_density_weak_effects'\n",
    "#              'p50_high_density_small_edges',\n",
    "#              'p50_low_density_standard_edges',\n",
    "#              'p50_low_density_small_edges'\n",
    "            ]\n",
    "\n",
    "all_runs = [(base_name,\n",
    "             '/u/home/a/asxue/project-hjp/dotears/data/{}/benchmarks/'.format(base_name),\n",
    "            ) for base_name in RUN_NAMES]\n",
    "\n",
    "df = pd.DataFrame(columns=['s', \n",
    "                           'h:m:s', \n",
    "                           'max_rss', \n",
    "                           'max_vms', \n",
    "                           'max_uss', \n",
    "                           'max_pss', \n",
    "                           'io_in', \n",
    "                           'io_out', \n",
    "                           'mean_load', \n",
    "                           'cpu_time', \n",
    "                           'method'])\n",
    "\n",
    "for base_name, benchmark_dir in all_runs:\n",
    "    methods = [os.path.basename(x) for x in glob.glob(os.path.join(benchmark_dir, '*'))]\n",
    "    \n",
    "    for method in methods:\n",
    "        method_dir = os.path.join(benchmark_dir, method)\n",
    "        \n",
    "        experiment_dirs = glob.glob(os.path.join(method_dir, '*'))\n",
    "        \n",
    "        for exp_dir in experiment_dirs:\n",
    "            for dag_dir in glob.glob(os.path.join(exp_dir, '*')):\n",
    "                for f in glob.glob(os.path.join(dag_dir, '*')):\n",
    "     \n",
    "                    f_df = pd.read_csv(f, delimiter='\\t')\n",
    "\n",
    "                    f_df['method'] = method\n",
    "                    df.loc[len(df.index), :] = f_df.loc[0]\n",
    "\n",
    "        "
   ]
  },
  {
   "cell_type": "code",
   "execution_count": 4,
   "id": "beb357a9",
   "metadata": {},
   "outputs": [
    {
     "data": {
      "text/html": [
       "<div>\n",
       "<style scoped>\n",
       "    .dataframe tbody tr th:only-of-type {\n",
       "        vertical-align: middle;\n",
       "    }\n",
       "\n",
       "    .dataframe tbody tr th {\n",
       "        vertical-align: top;\n",
       "    }\n",
       "\n",
       "    .dataframe thead th {\n",
       "        text-align: right;\n",
       "    }\n",
       "</style>\n",
       "<table border=\"1\" class=\"dataframe\">\n",
       "  <thead>\n",
       "    <tr style=\"text-align: right;\">\n",
       "      <th></th>\n",
       "      <th>s</th>\n",
       "      <th>h:m:s</th>\n",
       "      <th>max_rss</th>\n",
       "      <th>max_vms</th>\n",
       "      <th>max_uss</th>\n",
       "      <th>max_pss</th>\n",
       "      <th>io_in</th>\n",
       "      <th>io_out</th>\n",
       "      <th>mean_load</th>\n",
       "      <th>cpu_time</th>\n",
       "      <th>method</th>\n",
       "    </tr>\n",
       "  </thead>\n",
       "  <tbody>\n",
       "    <tr>\n",
       "      <th>0</th>\n",
       "      <td>76.8973</td>\n",
       "      <td>0:01:16</td>\n",
       "      <td>137.36</td>\n",
       "      <td>473.04</td>\n",
       "      <td>138.71</td>\n",
       "      <td>138.79</td>\n",
       "      <td>169.71</td>\n",
       "      <td>0.0</td>\n",
       "      <td>23.55</td>\n",
       "      <td>18.3</td>\n",
       "      <td>direct-lingam</td>\n",
       "    </tr>\n",
       "    <tr>\n",
       "      <th>1</th>\n",
       "      <td>21.3997</td>\n",
       "      <td>0:00:21</td>\n",
       "      <td>136.78</td>\n",
       "      <td>439.0</td>\n",
       "      <td>135.34</td>\n",
       "      <td>135.45</td>\n",
       "      <td>166.7</td>\n",
       "      <td>0.0</td>\n",
       "      <td>42.38</td>\n",
       "      <td>9.07</td>\n",
       "      <td>direct-lingam</td>\n",
       "    </tr>\n",
       "    <tr>\n",
       "      <th>2</th>\n",
       "      <td>105.1698</td>\n",
       "      <td>0:01:45</td>\n",
       "      <td>134.77</td>\n",
       "      <td>438.95</td>\n",
       "      <td>133.33</td>\n",
       "      <td>133.57</td>\n",
       "      <td>166.71</td>\n",
       "      <td>0.0</td>\n",
       "      <td>30.0</td>\n",
       "      <td>31.56</td>\n",
       "      <td>direct-lingam</td>\n",
       "    </tr>\n",
       "    <tr>\n",
       "      <th>3</th>\n",
       "      <td>16.1089</td>\n",
       "      <td>0:00:16</td>\n",
       "      <td>138.99</td>\n",
       "      <td>474.55</td>\n",
       "      <td>136.29</td>\n",
       "      <td>136.49</td>\n",
       "      <td>169.71</td>\n",
       "      <td>0.0</td>\n",
       "      <td>74.74</td>\n",
       "      <td>12.1</td>\n",
       "      <td>direct-lingam</td>\n",
       "    </tr>\n",
       "    <tr>\n",
       "      <th>4</th>\n",
       "      <td>63.55</td>\n",
       "      <td>0:01:03</td>\n",
       "      <td>134.77</td>\n",
       "      <td>438.95</td>\n",
       "      <td>133.39</td>\n",
       "      <td>133.68</td>\n",
       "      <td>166.77</td>\n",
       "      <td>0.0</td>\n",
       "      <td>62.17</td>\n",
       "      <td>39.52</td>\n",
       "      <td>direct-lingam</td>\n",
       "    </tr>\n",
       "    <tr>\n",
       "      <th>...</th>\n",
       "      <td>...</td>\n",
       "      <td>...</td>\n",
       "      <td>...</td>\n",
       "      <td>...</td>\n",
       "      <td>...</td>\n",
       "      <td>...</td>\n",
       "      <td>...</td>\n",
       "      <td>...</td>\n",
       "      <td>...</td>\n",
       "      <td>...</td>\n",
       "      <td>...</td>\n",
       "    </tr>\n",
       "    <tr>\n",
       "      <th>3979</th>\n",
       "      <td>4774.1273</td>\n",
       "      <td>1:19:34</td>\n",
       "      <td>21124.36</td>\n",
       "      <td>27035.57</td>\n",
       "      <td>21117.13</td>\n",
       "      <td>21119.78</td>\n",
       "      <td>1.04</td>\n",
       "      <td>878.23</td>\n",
       "      <td>84.56</td>\n",
       "      <td>4037.22</td>\n",
       "      <td>dcdi-g</td>\n",
       "    </tr>\n",
       "    <tr>\n",
       "      <th>3980</th>\n",
       "      <td>4697.4483</td>\n",
       "      <td>1:18:17</td>\n",
       "      <td>42759.01</td>\n",
       "      <td>48186.85</td>\n",
       "      <td>42751.7</td>\n",
       "      <td>42754.39</td>\n",
       "      <td>1.04</td>\n",
       "      <td>1366.91</td>\n",
       "      <td>99.35</td>\n",
       "      <td>4666.69</td>\n",
       "      <td>dcdi-g</td>\n",
       "    </tr>\n",
       "    <tr>\n",
       "      <th>3981</th>\n",
       "      <td>6255.2872</td>\n",
       "      <td>1:44:15</td>\n",
       "      <td>41012.45</td>\n",
       "      <td>46325.45</td>\n",
       "      <td>40936.25</td>\n",
       "      <td>40974.86</td>\n",
       "      <td>0.0</td>\n",
       "      <td>1587.95</td>\n",
       "      <td>99.18</td>\n",
       "      <td>6203.81</td>\n",
       "      <td>dcdi-g</td>\n",
       "    </tr>\n",
       "    <tr>\n",
       "      <th>3982</th>\n",
       "      <td>5734.2916</td>\n",
       "      <td>1:35:34</td>\n",
       "      <td>37312.66</td>\n",
       "      <td>42622.29</td>\n",
       "      <td>37305.34</td>\n",
       "      <td>37308.04</td>\n",
       "      <td>1.04</td>\n",
       "      <td>1483.36</td>\n",
       "      <td>99.4</td>\n",
       "      <td>5699.46</td>\n",
       "      <td>dcdi-g</td>\n",
       "    </tr>\n",
       "    <tr>\n",
       "      <th>3983</th>\n",
       "      <td>10993.3115</td>\n",
       "      <td>3:03:13</td>\n",
       "      <td>28165.65</td>\n",
       "      <td>33553.23</td>\n",
       "      <td>28154.57</td>\n",
       "      <td>28157.18</td>\n",
       "      <td>1.04</td>\n",
       "      <td>1433.74</td>\n",
       "      <td>66.27</td>\n",
       "      <td>7285.25</td>\n",
       "      <td>dcdi-g</td>\n",
       "    </tr>\n",
       "  </tbody>\n",
       "</table>\n",
       "<p>3984 rows × 11 columns</p>\n",
       "</div>"
      ],
      "text/plain": [
       "               s    h:m:s   max_rss   max_vms   max_uss   max_pss   io_in  \\\n",
       "0        76.8973  0:01:16    137.36    473.04    138.71    138.79  169.71   \n",
       "1        21.3997  0:00:21    136.78     439.0    135.34    135.45   166.7   \n",
       "2       105.1698  0:01:45    134.77    438.95    133.33    133.57  166.71   \n",
       "3        16.1089  0:00:16    138.99    474.55    136.29    136.49  169.71   \n",
       "4          63.55  0:01:03    134.77    438.95    133.39    133.68  166.77   \n",
       "...          ...      ...       ...       ...       ...       ...     ...   \n",
       "3979   4774.1273  1:19:34  21124.36  27035.57  21117.13  21119.78    1.04   \n",
       "3980   4697.4483  1:18:17  42759.01  48186.85   42751.7  42754.39    1.04   \n",
       "3981   6255.2872  1:44:15  41012.45  46325.45  40936.25  40974.86     0.0   \n",
       "3982   5734.2916  1:35:34  37312.66  42622.29  37305.34  37308.04    1.04   \n",
       "3983  10993.3115  3:03:13  28165.65  33553.23  28154.57  28157.18    1.04   \n",
       "\n",
       "       io_out mean_load cpu_time         method  \n",
       "0         0.0     23.55     18.3  direct-lingam  \n",
       "1         0.0     42.38     9.07  direct-lingam  \n",
       "2         0.0      30.0    31.56  direct-lingam  \n",
       "3         0.0     74.74     12.1  direct-lingam  \n",
       "4         0.0     62.17    39.52  direct-lingam  \n",
       "...       ...       ...      ...            ...  \n",
       "3979   878.23     84.56  4037.22         dcdi-g  \n",
       "3980  1366.91     99.35  4666.69         dcdi-g  \n",
       "3981  1587.95     99.18  6203.81         dcdi-g  \n",
       "3982  1483.36      99.4  5699.46         dcdi-g  \n",
       "3983  1433.74     66.27  7285.25         dcdi-g  \n",
       "\n",
       "[3984 rows x 11 columns]"
      ]
     },
     "execution_count": 4,
     "metadata": {},
     "output_type": "execute_result"
    }
   ],
   "source": [
    "df"
   ]
  },
  {
   "cell_type": "code",
   "execution_count": 5,
   "id": "fb926f6e",
   "metadata": {},
   "outputs": [
    {
     "data": {
      "text/plain": [
       "(array([0, 1, 2, 3, 4, 5, 6, 7, 8, 9]),\n",
       " [Text(0, 0, 'direct-lingam'),\n",
       "  Text(1, 0, 'sortnregress'),\n",
       "  Text(2, 0, 'igsp'),\n",
       "  Text(3, 0, 'ut-igsp'),\n",
       "  Text(4, 0, 'gies'),\n",
       "  Text(5, 0, 'notears'),\n",
       "  Text(6, 0, 'golem-nv'),\n",
       "  Text(7, 0, 'dotears'),\n",
       "  Text(8, 0, 'golem-ev'),\n",
       "  Text(9, 0, 'dcdi-g')])"
      ]
     },
     "execution_count": 5,
     "metadata": {},
     "output_type": "execute_result"
    },
    {
     "data": {
      "image/png": "[encoded data removed]",
      "text/plain": [
       "<Figure size 640x480 with 1 Axes>"
      ]
     },
     "metadata": {},
     "output_type": "display_data"
    },
    {
     "data": {
      "image/png": "[encoded data removed]",
      "text/plain": [
       "<Figure size 640x480 with 1 Axes>"
      ]
     },
     "metadata": {},
     "output_type": "display_data"
    }
   ],
   "source": [
    "plt.figure()\n",
    "sns.barplot(data=df, x='method', y='max_uss')\n",
    "plt.xticks(rotation=90)\n",
    "# plt.yscale('log')\n",
    "plt.ylabel('Memory Usage (MB)')\n",
    "\n",
    "plt.figure()\n",
    "sns.barplot(data=df, x='method', y='s')\n",
    "plt.xticks(rotation=90)\n",
    "# plt.yscale('log')"
   ]
  },
  {
   "cell_type": "code",
   "execution_count": 6,
   "id": "52a4eddf",
   "metadata": {},
   "outputs": [
    {
     "data": {
      "text/plain": [
       "73101.78"
      ]
     },
     "execution_count": 6,
     "metadata": {},
     "output_type": "execute_result"
    }
   ],
   "source": [
    "df.loc[df['method'] == 'dcdi-g', 'max_uss'].max()"
   ]
  },
  {
   "cell_type": "code",
   "execution_count": 11,
   "id": "a1a2b7f0",
   "metadata": {},
   "outputs": [
    {
     "data": {
      "text/plain": [
       "1.5284994323119296"
      ]
     },
     "execution_count": 11,
     "metadata": {},
     "output_type": "execute_result"
    }
   ],
   "source": [
    "df.loc[df['method'] == 'dcdi-g', 's'].mean() / 3600"
   ]
  },
  {
   "cell_type": "code",
   "execution_count": 8,
   "id": "3bdd64d1",
   "metadata": {},
   "outputs": [
    {
     "data": {
      "text/plain": [
       "Index(['s', 'h:m:s', 'max_rss', 'max_vms', 'max_uss', 'max_pss', 'io_in',\n",
       "       'io_out', 'mean_load', 'cpu_time', 'method'],\n",
       "      dtype='object')"
      ]
     },
     "execution_count": 8,
     "metadata": {},
     "output_type": "execute_result"
    }
   ],
   "source": [
    "df.columns"
   ]
  },
  {
   "cell_type": "code",
   "execution_count": null,
   "id": "130ebff5",
   "metadata": {},
   "outputs": [],
   "source": []
  }
 ],
 "metadata": {
  "kernelspec": {
   "display_name": "Python (std)",
   "language": "python",
   "name": "std"
  },
  "language_info": {
   "codemirror_mode": {
    "name": "ipython",
    "version": 3
   },
   "file_extension": ".py",
   "mimetype": "text/x-python",
   "name": "python",
   "nbconvert_exporter": "python",
   "pygments_lexer": "ipython3",
   "version": "3.11.4"
  }
 },
 "nbformat": 4,
 "nbformat_minor": 5
}
